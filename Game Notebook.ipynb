{
 "cells": [
  {
   "cell_type": "markdown",
   "metadata": {},
   "source": [
    "Step 1: Open the data file and study the general information"
   ]
  },
  {
   "cell_type": "code",
   "execution_count": null,
   "metadata": {},
   "outputs": [],
   "source": [
    "import pandas as pd\n",
    "\n",
    "# Load the data\n",
    "file_path = '/datasets/games.csv'\n",
    "df = pd.read_csv(file_path)\n",
    "\n",
    "# Display general information\n",
    "print(df.info())\n",
    "print(df.describe())\n",
    "print(df.head())\n"
   ]
  },
  {
   "cell_type": "markdown",
   "metadata": {},
   "source": [
    "Step 2: Prepare the data\n",
    "Replace the column names (make them lowercase)"
   ]
  },
  {
   "cell_type": "code",
   "execution_count": null,
   "metadata": {},
   "outputs": [],
   "source": [
    "# Make column names lowercase\n",
    "df.columns = df.columns.str.lower()\n"
   ]
  },
  {
   "cell_type": "markdown",
   "metadata": {},
   "source": [
    "Convert the data to the required types"
   ]
  },
  {
   "cell_type": "code",
   "execution_count": null,
   "metadata": {},
   "outputs": [],
   "source": [
    "# Convert columns to appropriate types if necessary\n",
    "# Example: converting 'year_of_release' to integer (fill NaNs first)\n",
    "df['year_of_release'].fillna(0, inplace=True)  # Temporary fill for conversion\n",
    "df['year_of_release'] = df['year_of_release'].astype(int)"
   ]
  },
  {
   "cell_type": "markdown",
   "metadata": {},
   "source": [
    "Deal with missing values"
   ]
  },
  {
   "cell_type": "code",
   "execution_count": null,
   "metadata": {},
   "outputs": [],
   "source": [
    "# Handling missing values in 'rating'\n",
    "df['rating'].fillna('undefined', inplace=True)\n",
    "\n",
    "# Fill missing values for 'name' and 'genre' (drop if < 1% of data)\n",
    "threshold = len(df) * 0.01\n",
    "missing_name_genre = df[df[['name', 'genre']].isna().all(axis=1)]\n",
    "if len(missing_name_genre) < threshold:\n",
    "    df.dropna(subset=['name', 'genre'], how='all', inplace=True)\n",
    "\n",
    "# Reason for missing values: could be due to incomplete data entry, lack of availability, or TBD cases.\n",
    "# Handling 'TBD'\n",
    "df['rating'].replace('TBD', 'undefined', inplace=True)\n"
   ]
  },
  {
   "cell_type": "markdown",
   "metadata": {},
   "source": [
    "Calculate total sales"
   ]
  },
  {
   "cell_type": "code",
   "execution_count": null,
   "metadata": {},
   "outputs": [],
   "source": [
    "# Calculate total sales and add as a new column\n",
    "df['total_sales'] = df[['na_sales', 'eu_sales', 'jp_sales', 'other_sales']].sum(axis=1)\n"
   ]
  },
  {
   "cell_type": "markdown",
   "metadata": {},
   "source": [
    "Step 3: Analyze the data\n",
    "\n",
    "Number of games released in different years"
   ]
  },
  {
   "cell_type": "code",
   "execution_count": null,
   "metadata": {},
   "outputs": [],
   "source": [
    "# Number of games released each year\n",
    "games_per_year = df['year_of_release'].value_counts().sort_index()\n",
    "print(games_per_year)\n"
   ]
  },
  {
   "cell_type": "markdown",
   "metadata": {},
   "source": [
    "Sales variation from platform to platform"
   ]
  },
  {
   "cell_type": "code",
   "execution_count": null,
   "metadata": {},
   "outputs": [],
   "source": [
    "# Sales variation by platform\n",
    "platform_sales = df.groupby('platform')['total_sales'].sum().sort_values(ascending=False)\n",
    "print(platform_sales)\n"
   ]
  },
  {
   "cell_type": "markdown",
   "metadata": {},
   "source": [
    "Determine relevant period for analysis (e.g., the last 10 years)"
   ]
  },
  {
   "cell_type": "code",
   "execution_count": null,
   "metadata": {},
   "outputs": [],
   "source": [
    "# Determine period for analysis\n",
    "recent_years = df[df['year_of_release'] >= 2006]\n"
   ]
  },
  {
   "cell_type": "markdown",
   "metadata": {},
   "source": [
    "Leading platforms in sales"
   ]
  },
  {
   "cell_type": "code",
   "execution_count": null,
   "metadata": {},
   "outputs": [],
   "source": [
    "# Platforms leading in sales\n",
    "top_platforms = recent_years.groupby('platform')['total_sales'].sum().sort_values(ascending=False).head()\n",
    "print(top_platforms)\n"
   ]
  },
  {
   "cell_type": "markdown",
   "metadata": {},
   "source": [
    "Box plot for global sales by platform"
   ]
  },
  {
   "cell_type": "code",
   "execution_count": null,
   "metadata": {},
   "outputs": [],
   "source": [
    "import seaborn as sns\n",
    "import matplotlib.pyplot as plt\n",
    "\n",
    "# Box plot for global sales by platform\n",
    "plt.figure(figsize=(12, 8))\n",
    "sns.boxplot(x='platform', y='total_sales', data=recent_years)\n",
    "plt.title('Global Sales by Platform')\n",
    "plt.show()\n"
   ]
  },
  {
   "cell_type": "markdown",
   "metadata": {},
   "source": [
    "User and professional reviews impact on sales (scatter plot)"
   ]
  },
  {
   "cell_type": "code",
   "execution_count": null,
   "metadata": {},
   "outputs": [],
   "source": [
    "# Correlation between reviews and sales for a popular platform (e.g., PS4)\n",
    "popular_platform = recent_years[recent_years['platform'] == 'PS4']\n",
    "plt.figure(figsize=(12, 8))\n",
    "sns.scatterplot(x='user_score', y='total_sales', data=popular_platform)\n",
    "sns.scatterplot(x='critic_score', y='total_sales', data=popular_platform)\n",
    "plt.title('User and Professional Reviews vs Sales (PS4)')\n",
    "plt.show()\n",
    "\n",
    "# Calculate correlation\n",
    "user_corr = popular_platform['user_score'].corr(popular_platform['total_sales'])\n",
    "critic_corr = popular_platform['critic_score'].corr(popular_platform['total_sales'])\n",
    "print(f\"User Score Correlation: {user_corr}\")\n",
    "print(f\"Critic Score Correlation: {critic_corr}\")\n"
   ]
  },
  {
   "cell_type": "markdown",
   "metadata": {},
   "source": [
    "General distribution of games by genre"
   ]
  },
  {
   "cell_type": "code",
   "execution_count": null,
   "metadata": {},
   "outputs": [],
   "source": [
    "# Distribution of games by genre\n",
    "genre_sales = recent_years.groupby('genre')['total_sales'].sum().sort_values(ascending=False)\n",
    "print(genre_sales)\n"
   ]
  },
  {
   "cell_type": "markdown",
   "metadata": {},
   "source": [
    "Step 4: Create a user profile for each region\n",
    "\n",
    "Top platforms and genres in each region"
   ]
  },
  {
   "cell_type": "code",
   "execution_count": null,
   "metadata": {},
   "outputs": [],
   "source": [
    "# Top platforms and genres in NA, EU, JP\n",
    "regions = ['na', 'eu', 'jp']\n",
    "\n",
    "for region in regions:\n",
    "    top_platforms = df.groupby('platform')[f'{region}_sales'].sum().sort_values(ascending=False).head(5)\n",
    "    top_genres = df.groupby('genre')[f'{region}_sales'].sum().sort_values(ascending=False).head(5)\n",
    "    print(f\"Top platforms in {region.upper()}:\\n{top_platforms}\\n\")\n",
    "    print(f\"Top genres in {region.upper()}:\\n{top_genres}\\n\")\n",
    "\n",
    "# ESRB rating impact on sales in each region\n",
    "for region in regions:\n",
    "    rating_sales = df.groupby('rating')[f'{region}_sales'].sum().sort_values(ascending=False)\n",
    "    print(f\"ESRB Rating impact in {region.upper()}:\\n{rating_sales}\\n\")\n"
   ]
  },
  {
   "cell_type": "markdown",
   "metadata": {},
   "source": [
    "Step 5: Test hypotheses\n",
    "\n",
    "Hypothesis testing"
   ]
  },
  {
   "cell_type": "code",
   "execution_count": null,
   "metadata": {
    "vscode": {
     "languageId": "plaintext"
    }
   },
   "outputs": [],
   "source": []
  },
  {
   "cell_type": "code",
   "execution_count": null,
   "metadata": {
    "vscode": {
     "languageId": "plaintext"
    }
   },
   "outputs": [],
   "source": []
  },
  {
   "cell_type": "code",
   "execution_count": null,
   "metadata": {},
   "outputs": [],
   "source": []
  }
 ],
 "metadata": {
  "language_info": {
   "name": "python"
  }
 },
 "nbformat": 4,
 "nbformat_minor": 2
}
